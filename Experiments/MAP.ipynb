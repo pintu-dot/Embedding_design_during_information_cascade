{
 "cells": [
  {
   "cell_type": "code",
   "execution_count": 1,
   "metadata": {
    "id": "t2GDv-rWXea1"
   },
   "outputs": [],
   "source": [
    "import numpy as np\n",
    "import math"
   ]
  },
  {
   "cell_type": "code",
   "execution_count": 2,
   "metadata": {
    "colab": {
     "base_uri": "https://localhost:8080/"
    },
    "id": "1PX7trTFaUHc",
    "outputId": "3942c779-a5e9-4a8a-b247-f09c1f5feb13"
   },
   "outputs": [
    {
     "name": "stdout",
     "output_type": "stream",
     "text": [
      "Mounted at /content/drive\n"
     ]
    }
   ],
   "source": [
    "from google.colab import drive\n",
    "drive.mount('/content/drive')"
   ]
  },
  {
   "cell_type": "code",
   "execution_count": 3,
   "metadata": {
    "id": "FcMO3lLMaRK9"
   },
   "outputs": [],
   "source": [
    "\n",
    "embd = np.load('/content/drive/MyDrive/CS_768/saved_embeddings_alpha0.5beta0.5/Z_50_Epoch_1389_Loss_5006.720362227084.npy')\n",
    "\n",
    "\n",
    "path_to_save = '/content/drive/MyDrive/CS_768/node_500/'\n",
    "C_test = np.load(path_to_save + 'C_test.npy',allow_pickle=True)\n",
    "S = np.load(path_to_save + 'S.npy',allow_pickle=True)\n",
    "nodes = [i for i in range(len(S))]"
   ]
  },
  {
   "cell_type": "code",
   "execution_count": 1,
   "metadata": {
    "colab": {
     "base_uri": "https://localhost:8080/",
     "height": 346
    },
    "id": "e-A9wS49Xea_",
    "outputId": "5fd402af-cdae-4c0b-de39-e3299371cfc0"
   },
   "outputs": [],
   "source": [
    "Z1 = np.load('./saved_embeddings_alpha0.2beta0.8/Z_50_Epoch_131_Loss_4887.216622925517.npy')\n",
    "Z2 = np.load('./Z_50_Epoch_975_Loss_5024.69774230853.npy')\n",
    "Z3 = np.load('./saved_embeddings_alpha0.1beta0.9/Z_50_Epoch_440_Loss_4298.954994396465.npy')\n",
    "path_to_save = './node_500/'\n",
    "C_test = np.load(path_to_save + 'C_test.npy')\n",
    "S = np.load(path_to_save + 'S.npy')\n",
    "nodes = [i for i in range(len(S))]\n"
   ]
  },
  {
   "cell_type": "code",
   "execution_count": 6,
   "metadata": {
    "id": "OvbWb7fhXebB"
   },
   "outputs": [],
   "source": [
    "def prob1(u,v, embd):\n",
    "    b=(np.linalg.norm(embd[v]-embd[u]))**2\n",
    "    a=1/(1+np.exp(b))\n",
    "    return a\n",
    "\n",
    "def prob_final(u,c, embd):\n",
    "    sum=0;\n",
    "    for i in range(math.ceil(0.1*c.shape[0])):\n",
    "        sum=sum+math.log(1-prob1(u,c[i,0],embd))\n",
    "    return(sum)\n",
    "\n",
    "def calc_score(nodes,c, embd):\n",
    "    r_hat=[]\n",
    "    noninfected_nodes=list(set(nodes)-set(c[:math.ceil(0.1*c.shape[0]),0]))\n",
    "    for i in range(len(noninfected_nodes)):\n",
    "        r_hat.append([noninfected_nodes[i],prob_final(noninfected_nodes[i],c, embd)])\n",
    "    r_hat.sort(key=lambda x: (x[1]))\n",
    "    return r_hat\n",
    "    \n",
    "def precision(r_hat,r):\n",
    "    r_hat_set=set(r_hat)\n",
    "    r_set=set(r)\n",
    "    return (len(r_hat_set.intersection(r_set))/(len(r_hat_set)+1e-5))\n",
    "\n",
    "def average_precison(nodes,c,k, embd):\n",
    "    r_hat=calc_score(nodes,c, embd)\n",
    "    prcsn=0;\n",
    "    m=0;\n",
    "    s=set(c[math.ceil(0.1*c.shape[0]):math.ceil(0.1*c.shape[0])+k,0])\n",
    "    for j in range(k):\n",
    "        if(np.array(r_hat)[j,0] in s):\n",
    "            m+=1;\n",
    "            prcsn=prcsn+precision(np.array(r_hat)[0:j,0],c[0:,0])\n",
    "    return (prcsn/m)\n",
    "\n",
    "def mean_average_precision(nodes,C, embd):\n",
    "    k=[50, 70, 100,120]\n",
    "    mean_pre=[]\n",
    "    for i in range(len(k)):\n",
    "        mean_prcsn=0\n",
    "        for j in range(len(C)):\n",
    "            mean_prcsn += average_precison(nodes,C[j],k[i], embd)\n",
    "        mean_pre.append(mean_prcsn/len(C))\n",
    "    return mean_pre\n",
    "        \n"
   ]
  }
 ],
 "metadata": {
  "colab": {
   "name": "MAP (3).ipynb",
   "provenance": []
  },
  "kernelspec": {
   "display_name": "Python 3",
   "language": "python",
   "name": "python3"
  },
  "language_info": {
   "codemirror_mode": {
    "name": "ipython",
    "version": 3
   },
   "file_extension": ".py",
   "mimetype": "text/x-python",
   "name": "python",
   "nbconvert_exporter": "python",
   "pygments_lexer": "ipython3",
   "version": "3.7.3"
  }
 },
 "nbformat": 4,
 "nbformat_minor": 1
}
